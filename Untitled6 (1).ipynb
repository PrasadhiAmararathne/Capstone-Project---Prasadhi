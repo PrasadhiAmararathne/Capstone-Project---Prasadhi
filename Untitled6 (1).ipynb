{
 "cells": [
  {
   "cell_type": "markdown",
   "id": "3c9a2389",
   "metadata": {},
   "source": [
    "# COMPARING NEIGHBORHOODS OF TORONTO AND MONTREAL"
   ]
  },
  {
   "cell_type": "markdown",
   "id": "7ae6ecce",
   "metadata": {},
   "source": [
    "## Introduction"
   ]
  },
  {
   "cell_type": "markdown",
   "id": "3b3b5b47",
   "metadata": {},
   "source": [
    "I am going to compare the neighborhoods of toronta, Canada and Montreal, Canada to find out the similarities and dissimilarities of the surroundings.\n",
    "This will provide an idea on the community spread in both cities.\n",
    "Given these two are cities of the same country I am expecting many similarities, but there can be many dissimilarities based on the location of these cities, their weather, the culture and socioeconomics of the people and so on. Canada is famous for a diversed country therefore I am hoping that I will be able to find an interesting output from this"
   ]
  },
  {
   "cell_type": "markdown",
   "id": "2af43aa4",
   "metadata": {},
   "source": [
    "## Data"
   ]
  },
  {
   "cell_type": "markdown",
   "id": "4254f847",
   "metadata": {},
   "source": [
    "Montreal Data: https://en.wikipedia.org/wiki/List_of_postal_codes_of_Canada:_H\n",
    "            "
   ]
  },
  {
   "cell_type": "markdown",
   "id": "b6ee52a1",
   "metadata": {},
   "source": [
    "Toronto Data: https://en.wikipedia.org/wiki/List_of_postal_codes_of_Canada:M"
   ]
  },
  {
   "cell_type": "markdown",
   "id": "118722c2",
   "metadata": {},
   "source": [
    "Since these two databases are similar it would be convenient to compare the data, also from here I can extract all the data I need for the analysis I am planning to do as explained in the introduction"
   ]
  },
  {
   "cell_type": "markdown",
   "id": "a2b9f52d",
   "metadata": {},
   "source": [
    "These data contain details of Neighborhoods, latitude and longitude coordinates of the respective area and different kinds of infrastructures in each neighborhoo\n",
    "By using Four squre API I can get all the venues in each Neighborhood then can filter this data to get different infrastructures and venues.\n",
    "\n",
    "I am planning to use knowledge gained on data sourcing, working with API (Foursquare), data cleaning, data wrangling and map visualization (Folium) and to machine learning (K-means clustering)to address the identified objective"
   ]
  },
  {
   "cell_type": "code",
   "execution_count": null,
   "id": "2ba21354",
   "metadata": {},
   "outputs": [],
   "source": []
  }
 ],
 "metadata": {
  "kernelspec": {
   "display_name": "Python 3",
   "language": "python",
   "name": "python3"
  },
  "language_info": {
   "codemirror_mode": {
    "name": "ipython",
    "version": 3
   },
   "file_extension": ".py",
   "mimetype": "text/x-python",
   "name": "python",
   "nbconvert_exporter": "python",
   "pygments_lexer": "ipython3",
   "version": "3.8.8"
  }
 },
 "nbformat": 4,
 "nbformat_minor": 5
}
